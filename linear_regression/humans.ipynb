{
  "nbformat": 4,
  "nbformat_minor": 0,
  "metadata": {
    "kernelspec": {
      "display_name": "Python 3 (ipykernel)",
      "language": "python",
      "name": "python3"
    },
    "language_info": {
      "codemirror_mode": {
        "name": "ipython",
        "version": 3
      },
      "file_extension": ".py",
      "mimetype": "text/x-python",
      "name": "python",
      "nbconvert_exporter": "python",
      "pygments_lexer": "ipython3",
      "version": "3.9.6"
    },
    "colab": {
      "name": "Шагинова Елизавета ПМ4-1 МО_ЛР_1.ipynb",
      "provenance": [],
      "collapsed_sections": []
    }
  },
  "cells": [
    {
      "cell_type": "markdown",
      "metadata": {
        "id": "iy-1lUgupjlC"
      },
      "source": [
        "## Линейная регрессия\n",
        "\n",
        "На основе набора данных об измерениях роста и веса решим следующие задачи.\n",
        "\n",
        "Обучим модели линейной регрессии: \n",
        "1. Оценивающую действительный вес человека (weight) по сообщенному весу (repwt).\n",
        "2. Оценивающую рост человека. Для начала построим одномерную модель на данных, используя в качестве целевой переменной рост (height), а в качестве признака вес (weight). Затем расширим набор признаков, добавив данные об сообщенном весе (repwt) и поле человека (sex), и посмотрим, как изменится мера R^2.\n",
        "\n",
        "Для обучения линейной модели будем использовать класс из библиотеки scikit-learn - [LinearRegression](http://scikit-learn.org/stable/modules/generated/sklearn.linear_model.LinearRegression.html).\n",
        "\n",
        "Файл с данными - [Davis.csv](https://github.com/sdukshis/ml-intro/blob/master/datasets/Davis.csv)\n",
        "\n",
        "В некоторых строках встречаются пропуски. Их уберем из таблицы вместе со всей строкой с помощью pandas.DataFrame.dropna()."
      ]
    },
    {
      "cell_type": "code",
      "metadata": {
        "colab": {
          "base_uri": "https://localhost:8080/"
        },
        "id": "mJuEvID5pjlG",
        "outputId": "713bbade-2192-4cac-a376-2f01c1b8361c"
      },
      "source": [
        "import numpy as np\n",
        "import seaborn as sns\n",
        "import pandas as pd\n",
        "%pylab inline"
      ],
      "execution_count": 64,
      "outputs": [
        {
          "output_type": "stream",
          "name": "stdout",
          "text": [
            "Populating the interactive namespace from numpy and matplotlib\n"
          ]
        }
      ]
    },
    {
      "cell_type": "code",
      "metadata": {
        "colab": {
          "base_uri": "https://localhost:8080/",
          "height": 204
        },
        "id": "2cCYmShrpjlI",
        "outputId": "153b9402-422b-4b7d-be9e-f1e49979492a"
      },
      "source": [
        "observations = pd.read_csv('https://raw.githubusercontent.com/sdukshis/ml-intro/master/datasets/Davis.csv', index_col=0)\n",
        "observations.head()"
      ],
      "execution_count": 65,
      "outputs": [
        {
          "output_type": "execute_result",
          "data": {
            "text/html": [
              "<div>\n",
              "<style scoped>\n",
              "    .dataframe tbody tr th:only-of-type {\n",
              "        vertical-align: middle;\n",
              "    }\n",
              "\n",
              "    .dataframe tbody tr th {\n",
              "        vertical-align: top;\n",
              "    }\n",
              "\n",
              "    .dataframe thead th {\n",
              "        text-align: right;\n",
              "    }\n",
              "</style>\n",
              "<table border=\"1\" class=\"dataframe\">\n",
              "  <thead>\n",
              "    <tr style=\"text-align: right;\">\n",
              "      <th></th>\n",
              "      <th>sex</th>\n",
              "      <th>weight</th>\n",
              "      <th>height</th>\n",
              "      <th>repwt</th>\n",
              "      <th>repht</th>\n",
              "    </tr>\n",
              "  </thead>\n",
              "  <tbody>\n",
              "    <tr>\n",
              "      <th>1</th>\n",
              "      <td>M</td>\n",
              "      <td>77</td>\n",
              "      <td>182</td>\n",
              "      <td>77.0</td>\n",
              "      <td>180.0</td>\n",
              "    </tr>\n",
              "    <tr>\n",
              "      <th>2</th>\n",
              "      <td>F</td>\n",
              "      <td>58</td>\n",
              "      <td>161</td>\n",
              "      <td>51.0</td>\n",
              "      <td>159.0</td>\n",
              "    </tr>\n",
              "    <tr>\n",
              "      <th>3</th>\n",
              "      <td>F</td>\n",
              "      <td>53</td>\n",
              "      <td>161</td>\n",
              "      <td>54.0</td>\n",
              "      <td>158.0</td>\n",
              "    </tr>\n",
              "    <tr>\n",
              "      <th>4</th>\n",
              "      <td>M</td>\n",
              "      <td>68</td>\n",
              "      <td>177</td>\n",
              "      <td>70.0</td>\n",
              "      <td>175.0</td>\n",
              "    </tr>\n",
              "    <tr>\n",
              "      <th>5</th>\n",
              "      <td>F</td>\n",
              "      <td>59</td>\n",
              "      <td>157</td>\n",
              "      <td>59.0</td>\n",
              "      <td>155.0</td>\n",
              "    </tr>\n",
              "  </tbody>\n",
              "</table>\n",
              "</div>"
            ],
            "text/plain": [
              "  sex  weight  height  repwt  repht\n",
              "1   M      77     182   77.0  180.0\n",
              "2   F      58     161   51.0  159.0\n",
              "3   F      53     161   54.0  158.0\n",
              "4   M      68     177   70.0  175.0\n",
              "5   F      59     157   59.0  155.0"
            ]
          },
          "metadata": {},
          "execution_count": 65
        }
      ]
    },
    {
      "cell_type": "markdown",
      "metadata": {
        "id": "uDVjgV6vpjlJ"
      },
      "source": [
        "## Задача 1. Оценка веса"
      ]
    },
    {
      "cell_type": "code",
      "metadata": {
        "colab": {
          "base_uri": "https://localhost:8080/"
        },
        "id": "djiQGQhbpjlK",
        "outputId": "9dddd5cf-b9a1-41c6-b6b2-2f310f58ef5f"
      },
      "source": [
        "observations.isna().sum()"
      ],
      "execution_count": 66,
      "outputs": [
        {
          "output_type": "execute_result",
          "data": {
            "text/plain": [
              "sex        0\n",
              "weight     0\n",
              "height     0\n",
              "repwt     17\n",
              "repht     17\n",
              "dtype: int64"
            ]
          },
          "metadata": {},
          "execution_count": 66
        }
      ]
    },
    {
      "cell_type": "code",
      "metadata": {
        "id": "QwAIvt7tpjlL"
      },
      "source": [
        "observations.dropna(inplace=True)"
      ],
      "execution_count": 67,
      "outputs": []
    },
    {
      "cell_type": "code",
      "metadata": {
        "id": "auWqTBxApjlL"
      },
      "source": [
        "X = observations.repwt.to_numpy().reshape(-1, 1)\n",
        "y = observations.weight.to_numpy()"
      ],
      "execution_count": 68,
      "outputs": []
    },
    {
      "cell_type": "code",
      "metadata": {
        "colab": {
          "base_uri": "https://localhost:8080/"
        },
        "id": "BWBN9Ct9o9z5",
        "outputId": "f812ea3c-e8a2-40fb-efe5-6b4a9cfb7524"
      },
      "source": [
        "from sklearn.linear_model import LinearRegression\n",
        "weight_reg = LinearRegression()\n",
        "weight_reg.fit(X,y)"
      ],
      "execution_count": 69,
      "outputs": [
        {
          "output_type": "execute_result",
          "data": {
            "text/plain": [
              "LinearRegression(copy_X=True, fit_intercept=True, n_jobs=None, normalize=False)"
            ]
          },
          "metadata": {},
          "execution_count": 69
        }
      ]
    },
    {
      "cell_type": "code",
      "metadata": {
        "id": "r5Y_jnu_pjlN"
      },
      "source": [
        "# y = b0 + b1 * x\n",
        "b1 = weight_reg.coef_[0]\n",
        "b0 = weight_reg.intercept_"
      ],
      "execution_count": 70,
      "outputs": []
    },
    {
      "cell_type": "code",
      "metadata": {
        "colab": {
          "base_uri": "https://localhost:8080/",
          "height": 519
        },
        "id": "0Ct20jPcpjlN",
        "outputId": "af5a4afa-aa3d-4fde-b7df-c6079031e35a"
      },
      "source": [
        "sns.set(rc={'figure.figsize':(12,8)})\n",
        "#ax = observations.plot.scatter(x='repwt', y='weight',color='grey', figsize=(14,8),s=50);\n",
        "ax = sns.scatterplot(y='weight', x='repwt', hue='sex', data=observations)\n",
        "ax.set_xlabel('replied weight');\n",
        "ax.set_ylabel('real weight');\n",
        "\n",
        "xx = np.linspace(40, 130);\n",
        "plot(xx, b0 + b1 * xx, label=' y = {} + {} * x'.format(format(b0, '.3f'), format(b1, '.3f')), color='grey');\n",
        "ax.legend(loc=4);\n",
        "\n",
        "print('Мера R^2: {:.3f}'.format(weight_reg.score(X,y)))"
      ],
      "execution_count": 71,
      "outputs": [
        {
          "output_type": "stream",
          "name": "stdout",
          "text": [
            "Мера R^2: 0.972\n"
          ]
        },
        {
          "output_type": "display_data",
          "data": {
            "image/png": "[encoded data removed]",
            "text/plain": [
              "<Figure size 864x576 with 1 Axes>"
            ]
          },
          "metadata": {}
        }
      ]
    },
    {
      "cell_type": "markdown",
      "metadata": {
        "id": "HLOkFLCOpjlO"
      },
      "source": [
        "## Задача 2. Оценка роста"
      ]
    },
    {
      "cell_type": "markdown",
      "metadata": {
        "id": "iuOBHRbktKzL"
      },
      "source": [
        "### По одному признаку weight"
      ]
    },
    {
      "cell_type": "code",
      "metadata": {
        "id": "gOjIHZjgpjlO"
      },
      "source": [
        "X = observations.weight.to_numpy().reshape(-1, 1)\n",
        "y = observations.height.to_numpy()"
      ],
      "execution_count": 72,
      "outputs": []
    },
    {
      "cell_type": "code",
      "metadata": {
        "colab": {
          "base_uri": "https://localhost:8080/"
        },
        "id": "lTACASjupjlP",
        "outputId": "964097a6-c310-4b3b-b412-1419bcdff8a2"
      },
      "source": [
        "height_reg = LinearRegression()\n",
        "height_reg.fit(X,y)"
      ],
      "execution_count": 73,
      "outputs": [
        {
          "output_type": "execute_result",
          "data": {
            "text/plain": [
              "LinearRegression(copy_X=True, fit_intercept=True, n_jobs=None, normalize=False)"
            ]
          },
          "metadata": {},
          "execution_count": 73
        }
      ]
    },
    {
      "cell_type": "code",
      "metadata": {
        "id": "ke-8Cs2UpjlP"
      },
      "source": [
        "# y = b0 + b1 * x\n",
        "b1 = height_reg.coef_[0]\n",
        "b0 = height_reg.intercept_"
      ],
      "execution_count": 74,
      "outputs": []
    },
    {
      "cell_type": "code",
      "metadata": {
        "colab": {
          "base_uri": "https://localhost:8080/",
          "height": 519
        },
        "id": "hUj9x6fSpjlP",
        "outputId": "97dad9bc-257e-4937-8adc-738624120ec6"
      },
      "source": [
        "ax = observations.plot.scatter(x='weight', y='height',color='grey', figsize=(12,8),s=50);\n",
        "ax.set_xlabel('weight');\n",
        "ax.set_ylabel('height');\n",
        "\n",
        "xx = np.linspace(40, 130)\n",
        "plot(xx, b0 + b1 * xx, label=' y = {} + {} * x'.format(format(b0, '.3f'), format(b1, '.3f')));\n",
        "ax.legend(loc=4);\n",
        "\n",
        "print('Мера R^2: {:.3f}'.format(height_reg.score(X,y)))"
      ],
      "execution_count": 75,
      "outputs": [
        {
          "output_type": "stream",
          "name": "stdout",
          "text": [
            "Мера R^2: 0.591\n"
          ]
        },
        {
          "output_type": "display_data",
          "data": {
            "image/png": "[encoded data removed]",
            "text/plain": [
              "<Figure size 864x576 with 1 Axes>"
            ]
          },
          "metadata": {}
        }
      ]
    },
    {
      "cell_type": "markdown",
      "metadata": {
        "id": "hw6lnDccpjlQ"
      },
      "source": [
        "1. Как видно, построенная на одном признаке модель дает низкую оценку, равную 0.591.\n",
        "2. Вклад свободного члена куда больше, чем вклад, объясненный регрессией.\n",
        "3. Добавим больше признаков!"
      ]
    },
    {
      "cell_type": "markdown",
      "metadata": {
        "id": "LM_3s0LgpjlQ"
      },
      "source": [
        "### По нескольким признакам: weight, repwt, sex"
      ]
    },
    {
      "cell_type": "code",
      "metadata": {
        "id": "_EF52XHEpjlQ"
      },
      "source": [
        "observations.sex = observations.sex.map({'M': '0', 'F': '1'})"
      ],
      "execution_count": 76,
      "outputs": []
    },
    {
      "cell_type": "code",
      "metadata": {
        "colab": {
          "base_uri": "https://localhost:8080/",
          "height": 204
        },
        "id": "KPfcE_f9pjlR",
        "outputId": "9a56bc29-ab70-488d-9a36-8994d34ba3f3"
      },
      "source": [
        "observations.head()"
      ],
      "execution_count": 77,
      "outputs": [
        {
          "output_type": "execute_result",
          "data": {
            "text/html": [
              "<div>\n",
              "<style scoped>\n",
              "    .dataframe tbody tr th:only-of-type {\n",
              "        vertical-align: middle;\n",
              "    }\n",
              "\n",
              "    .dataframe tbody tr th {\n",
              "        vertical-align: top;\n",
              "    }\n",
              "\n",
              "    .dataframe thead th {\n",
              "        text-align: right;\n",
              "    }\n",
              "</style>\n",
              "<table border=\"1\" class=\"dataframe\">\n",
              "  <thead>\n",
              "    <tr style=\"text-align: right;\">\n",
              "      <th></th>\n",
              "      <th>sex</th>\n",
              "      <th>weight</th>\n",
              "      <th>height</th>\n",
              "      <th>repwt</th>\n",
              "      <th>repht</th>\n",
              "    </tr>\n",
              "  </thead>\n",
              "  <tbody>\n",
              "    <tr>\n",
              "      <th>1</th>\n",
              "      <td>0</td>\n",
              "      <td>77</td>\n",
              "      <td>182</td>\n",
              "      <td>77.0</td>\n",
              "      <td>180.0</td>\n",
              "    </tr>\n",
              "    <tr>\n",
              "      <th>2</th>\n",
              "      <td>1</td>\n",
              "      <td>58</td>\n",
              "      <td>161</td>\n",
              "      <td>51.0</td>\n",
              "      <td>159.0</td>\n",
              "    </tr>\n",
              "    <tr>\n",
              "      <th>3</th>\n",
              "      <td>1</td>\n",
              "      <td>53</td>\n",
              "      <td>161</td>\n",
              "      <td>54.0</td>\n",
              "      <td>158.0</td>\n",
              "    </tr>\n",
              "    <tr>\n",
              "      <th>4</th>\n",
              "      <td>0</td>\n",
              "      <td>68</td>\n",
              "      <td>177</td>\n",
              "      <td>70.0</td>\n",
              "      <td>175.0</td>\n",
              "    </tr>\n",
              "    <tr>\n",
              "      <th>5</th>\n",
              "      <td>1</td>\n",
              "      <td>59</td>\n",
              "      <td>157</td>\n",
              "      <td>59.0</td>\n",
              "      <td>155.0</td>\n",
              "    </tr>\n",
              "  </tbody>\n",
              "</table>\n",
              "</div>"
            ],
            "text/plain": [
              "  sex  weight  height  repwt  repht\n",
              "1   0      77     182   77.0  180.0\n",
              "2   1      58     161   51.0  159.0\n",
              "3   1      53     161   54.0  158.0\n",
              "4   0      68     177   70.0  175.0\n",
              "5   1      59     157   59.0  155.0"
            ]
          },
          "metadata": {},
          "execution_count": 77
        }
      ]
    },
    {
      "cell_type": "code",
      "metadata": {
        "id": "FoNZ7hgVpjlR"
      },
      "source": [
        "X = observations[['sex', 'weight', 'repwt']]\n",
        "y = observations.height"
      ],
      "execution_count": 78,
      "outputs": []
    },
    {
      "cell_type": "code",
      "metadata": {
        "colab": {
          "base_uri": "https://localhost:8080/"
        },
        "id": "0Y_wPu5IpjlS",
        "outputId": "8968e26d-e0f5-4f33-f08e-4b0ad7d3bc2f"
      },
      "source": [
        "height_reg_2 = LinearRegression()\n",
        "height_reg_2.fit(X,y)"
      ],
      "execution_count": 79,
      "outputs": [
        {
          "output_type": "execute_result",
          "data": {
            "text/plain": [
              "LinearRegression(copy_X=True, fit_intercept=True, n_jobs=None, normalize=False)"
            ]
          },
          "metadata": {},
          "execution_count": 79
        }
      ]
    },
    {
      "cell_type": "code",
      "metadata": {
        "colab": {
          "base_uri": "https://localhost:8080/"
        },
        "id": "GU1smmDypjlS",
        "outputId": "8e43cc86-8c8d-4b62-82d1-d103e3527100"
      },
      "source": [
        "print('Мера R^2: {:.3f}'.format(height_reg_2.score(X,y)))\n",
        "print('Полученные коэффициенты регрессии: ', height_reg_2.coef_)\n",
        "print('Свободный член: ',height_reg_2.intercept_)"
      ],
      "execution_count": 80,
      "outputs": [
        {
          "output_type": "stream",
          "name": "stdout",
          "text": [
            "Мера R^2: 0.678\n",
            "Полученные коэффициенты регрессии:  [-6.57059774e+00  9.63135926e-04  3.35574933e-01]\n",
            "Свободный член:  152.24707602509258\n"
          ]
        }
      ]
    },
    {
      "cell_type": "markdown",
      "metadata": {
        "id": "on8h-xlxzwyL"
      },
      "source": [
        "1. Расширенная модель дает более высокий показатель R^2 = 0.678\n",
        "2. Однако, вклад свободного члена стал еще больше. Отчасти это связано с тем, что на вход модели мы отправили два сильно коррелированныех признака -- weight и repwt."
      ]
    }
  ]
}